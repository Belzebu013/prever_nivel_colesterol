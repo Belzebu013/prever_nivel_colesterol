{
 "cells": [
  {
   "cell_type": "code",
   "execution_count": 63,
   "metadata": {},
   "outputs": [],
   "source": [
    "import pandas as pd\n",
    "import seaborn as sns\n",
    "import matplotlib.pyplot as plt"
   ]
  },
  {
   "cell_type": "markdown",
   "metadata": {},
   "source": [
    "### Carregar os dados"
   ]
  },
  {
   "cell_type": "code",
   "execution_count": 49,
   "metadata": {},
   "outputs": [],
   "source": [
    "df_colesterol = pd.read_csv('./datasets/dataset_colesterol.csv')"
   ]
  },
  {
   "cell_type": "code",
   "execution_count": 50,
   "metadata": {},
   "outputs": [],
   "source": [
    "# Remover colunas desnecessárias (id)\n",
    "# axis = 1 -> mudança no eixo x\n",
    "# inplace -> realizar a mudança diretamente no array original\n",
    "df_colesterol.drop(columns=['Id'], axis=1 ,inplace=True)"
   ]
  },
  {
   "cell_type": "code",
   "execution_count": 51,
   "metadata": {},
   "outputs": [],
   "source": [
    "# Renomear e padronizar os nomes das colunas\n",
    "df_colesterol.columns = [\n",
    "    'grupo_sanguineo',\n",
    "    'fumante',\n",
    "    'nivel_atividade_fisica',\n",
    "    'idade',\n",
    "    'peso',\n",
    "    'altura',\n",
    "    'nivel_colesterol'\n",
    "]"
   ]
  },
  {
   "cell_type": "code",
   "execution_count": 52,
   "metadata": {},
   "outputs": [],
   "source": [
    "# Copiar DataFrame para DataFrame EDA\n",
    "df_colesterol_eda = df_colesterol.copy()\n",
    "# Copiar DataFrame para DataFrame Bucketing\n",
    "df_colesterol_bucketing = df_colesterol.copy()"
   ]
  },
  {
   "cell_type": "markdown",
   "metadata": {},
   "source": [
    "### EDA"
   ]
  },
  {
   "cell_type": "code",
   "execution_count": 53,
   "metadata": {},
   "outputs": [
    {
     "data": {
      "text/plain": [
       "grupo_sanguineo           4\n",
       "fumante                   3\n",
       "nivel_atividade_fisica    4\n",
       "idade                     3\n",
       "peso                      3\n",
       "altura                    3\n",
       "nivel_colesterol          0\n",
       "dtype: int64"
      ]
     },
     "execution_count": 53,
     "metadata": {},
     "output_type": "execute_result"
    }
   ],
   "source": [
    "# Detectar Valores ausentes\n",
    "df_colesterol_eda.isna().sum()"
   ]
  },
  {
   "cell_type": "code",
   "execution_count": 54,
   "metadata": {},
   "outputs": [
    {
     "data": {
      "text/html": [
       "<div>\n",
       "<style scoped>\n",
       "    .dataframe tbody tr th:only-of-type {\n",
       "        vertical-align: middle;\n",
       "    }\n",
       "\n",
       "    .dataframe tbody tr th {\n",
       "        vertical-align: top;\n",
       "    }\n",
       "\n",
       "    .dataframe thead th {\n",
       "        text-align: right;\n",
       "    }\n",
       "</style>\n",
       "<table border=\"1\" class=\"dataframe\">\n",
       "  <thead>\n",
       "    <tr style=\"text-align: right;\">\n",
       "      <th></th>\n",
       "      <th>idade</th>\n",
       "      <th>peso</th>\n",
       "      <th>altura</th>\n",
       "      <th>nivel_colesterol</th>\n",
       "    </tr>\n",
       "  </thead>\n",
       "  <tbody>\n",
       "    <tr>\n",
       "      <th>count</th>\n",
       "      <td>997.000000</td>\n",
       "      <td>997.000000</td>\n",
       "      <td>997.000000</td>\n",
       "      <td>1000.000000</td>\n",
       "    </tr>\n",
       "    <tr>\n",
       "      <th>mean</th>\n",
       "      <td>49.206620</td>\n",
       "      <td>76.496690</td>\n",
       "      <td>174.889669</td>\n",
       "      <td>199.453260</td>\n",
       "    </tr>\n",
       "    <tr>\n",
       "      <th>std</th>\n",
       "      <td>17.476704</td>\n",
       "      <td>21.439132</td>\n",
       "      <td>8.844703</td>\n",
       "      <td>50.625152</td>\n",
       "    </tr>\n",
       "    <tr>\n",
       "      <th>min</th>\n",
       "      <td>20.000000</td>\n",
       "      <td>15.400000</td>\n",
       "      <td>160.000000</td>\n",
       "      <td>36.260000</td>\n",
       "    </tr>\n",
       "    <tr>\n",
       "      <th>25%</th>\n",
       "      <td>34.000000</td>\n",
       "      <td>61.700000</td>\n",
       "      <td>167.000000</td>\n",
       "      <td>166.345000</td>\n",
       "    </tr>\n",
       "    <tr>\n",
       "      <th>50%</th>\n",
       "      <td>49.000000</td>\n",
       "      <td>75.500000</td>\n",
       "      <td>175.000000</td>\n",
       "      <td>199.455000</td>\n",
       "    </tr>\n",
       "    <tr>\n",
       "      <th>75%</th>\n",
       "      <td>65.000000</td>\n",
       "      <td>90.200000</td>\n",
       "      <td>183.000000</td>\n",
       "      <td>233.785000</td>\n",
       "    </tr>\n",
       "    <tr>\n",
       "      <th>max</th>\n",
       "      <td>79.000000</td>\n",
       "      <td>158.100000</td>\n",
       "      <td>190.000000</td>\n",
       "      <td>372.670000</td>\n",
       "    </tr>\n",
       "  </tbody>\n",
       "</table>\n",
       "</div>"
      ],
      "text/plain": [
       "            idade        peso      altura  nivel_colesterol\n",
       "count  997.000000  997.000000  997.000000       1000.000000\n",
       "mean    49.206620   76.496690  174.889669        199.453260\n",
       "std     17.476704   21.439132    8.844703         50.625152\n",
       "min     20.000000   15.400000  160.000000         36.260000\n",
       "25%     34.000000   61.700000  167.000000        166.345000\n",
       "50%     49.000000   75.500000  175.000000        199.455000\n",
       "75%     65.000000   90.200000  183.000000        233.785000\n",
       "max     79.000000  158.100000  190.000000        372.670000"
      ]
     },
     "execution_count": 54,
     "metadata": {},
     "output_type": "execute_result"
    }
   ],
   "source": [
    "# Medidas estatísticas do DataFrame\n",
    "df_colesterol_eda.describe()"
   ]
  },
  {
   "cell_type": "code",
   "execution_count": 55,
   "metadata": {},
   "outputs": [],
   "source": [
    "# Coletar medidas das variáveis categoricas\n",
    "moda_grupo_sang = df_colesterol_eda.grupo_sanguineo.mode()\n",
    "moda_fumante = df_colesterol_eda.fumante.mode()\n",
    "moda_nivel_atividade = df_colesterol_eda.nivel_atividade_fisica.mode()"
   ]
  },
  {
   "cell_type": "code",
   "execution_count": 56,
   "metadata": {},
   "outputs": [],
   "source": [
    "# Coletar medidas das variáveis numericas\n",
    "mediana_idade = df_colesterol_eda.idade.median()\n",
    "mediana_peso = df_colesterol_eda.peso.median()\n",
    "mediana_altura = df_colesterol_eda.altura.median()"
   ]
  },
  {
   "cell_type": "code",
   "execution_count": 57,
   "metadata": {},
   "outputs": [],
   "source": [
    "# Inputar valores ausentes\n",
    "df_colesterol_eda.fillna(value={'grupo_sanguineo': moda_grupo_sang[0],\n",
    "                                'fumante': moda_fumante[0],\n",
    "                                'nivel_atividade_fisica': moda_nivel_atividade[0],\n",
    "                                'idade': mediana_idade,\n",
    "                                'peso': mediana_peso,\n",
    "                                'altura': mediana_altura}, inplace=True)"
   ]
  },
  {
   "cell_type": "code",
   "execution_count": 58,
   "metadata": {},
   "outputs": [],
   "source": [
    "# Converter idade e altura para inteiro\n",
    "df_colesterol_eda.idade = df_colesterol_eda.idade.astype(int)\n",
    "df_colesterol_eda.altura = df_colesterol_eda.altura.astype(int)"
   ]
  },
  {
   "cell_type": "code",
   "execution_count": 79,
   "metadata": {},
   "outputs": [
    {
     "data": {
      "image/png": "[encoded data removed]",
      "text/plain": [
       "<Figure size 640x480 with 1 Axes>"
      ]
     },
     "metadata": {},
     "output_type": "display_data"
    }
   ],
   "source": [
    "# Verificar / detectar outliers - idade\n",
    "sns.boxplot(data=df_colesterol_eda, x='idade')\n",
    "plt.show()"
   ]
  },
  {
   "cell_type": "code",
   "execution_count": 82,
   "metadata": {},
   "outputs": [
    {
     "data": {
      "image/png": "[encoded data removed]",
      "text/plain": [
       "<Figure size 640x480 with 1 Axes>"
      ]
     },
     "metadata": {},
     "output_type": "display_data"
    }
   ],
   "source": [
    "# Verificar / detectar outliers - peso\n",
    "sns.boxplot(data=df_colesterol_eda, x='peso')\n",
    "plt.show()"
   ]
  }
 ],
 "metadata": {
  "kernelspec": {
   "display_name": "REGRESSAO_LINEAR_MULTIPLA-_yN_3zbW",
   "language": "python",
   "name": "python3"
  },
  "language_info": {
   "codemirror_mode": {
    "name": "ipython",
    "version": 3
   },
   "file_extension": ".py",
   "mimetype": "text/x-python",
   "name": "python",
   "nbconvert_exporter": "python",
   "pygments_lexer": "ipython3",
   "version": "3.12.4"
  }
 },
 "nbformat": 4,
 "nbformat_minor": 2
}
